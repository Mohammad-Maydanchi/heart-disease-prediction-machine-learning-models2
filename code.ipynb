{
  "cells": [
    {
      "cell_type": "markdown",
      "metadata": {
        "id": "q9zD9OoXXoHI"
      },
      "source": [
        "# Imports and Preparations"
      ]
    },
    {
      "cell_type": "code",
      "execution_count": null,
      "metadata": {
        "colab": {
          "base_uri": "https://localhost:8080/",
          "height": 423
        },
        "id": "45f74376",
        "outputId": "c0b7cbb2-1555-417c-f5f2-86f7ad3d047c"
      },
      "outputs": [
        {
          "output_type": "display_data",
          "data": {
            "text/plain": [
              "       HeartDisease    BMI Smoking AlcoholDrinking Stroke  PhysicalHealth  \\\n",
              "0                No  16.60     Yes              No     No               3   \n",
              "1                No  20.34      No              No    Yes               0   \n",
              "2                No  26.58     Yes              No     No              20   \n",
              "3                No  24.21      No              No     No               0   \n",
              "4                No  23.71      No              No     No              28   \n",
              "...             ...    ...     ...             ...    ...             ...   \n",
              "319790          Yes  27.41     Yes              No     No               7   \n",
              "319791           No  29.84     Yes              No     No               0   \n",
              "319792           No  24.24      No              No     No               0   \n",
              "319793           No  32.81      No              No     No               0   \n",
              "319794           No  46.56      No              No     No               0   \n",
              "\n",
              "        MentalHealth DiffWalking     Sex  AgeCategory      Race Diabetic  \\\n",
              "0                 30          No  Female        55-59     White      Yes   \n",
              "1                  0          No  Female  80 or older     White       No   \n",
              "2                 30          No    Male        65-69     White      Yes   \n",
              "3                  0          No  Female        75-79     White       No   \n",
              "4                  0         Yes  Female        40-44     White       No   \n",
              "...              ...         ...     ...          ...       ...      ...   \n",
              "319790             0         Yes    Male        60-64  Hispanic      Yes   \n",
              "319791             0          No    Male        35-39  Hispanic       No   \n",
              "319792             0          No  Female        45-49  Hispanic       No   \n",
              "319793             0          No  Female        25-29  Hispanic       No   \n",
              "319794             0          No  Female  80 or older  Hispanic       No   \n",
              "\n",
              "       PhysicalActivity  GenHealth  SleepTime Asthma KidneyDisease SkinCancer  \n",
              "0                   Yes  Very good          5    Yes            No        Yes  \n",
              "1                   Yes  Very good          7     No            No         No  \n",
              "2                   Yes       Fair          8    Yes            No         No  \n",
              "3                    No       Good          6     No            No        Yes  \n",
              "4                   Yes  Very good          8     No            No         No  \n",
              "...                 ...        ...        ...    ...           ...        ...  \n",
              "319790               No       Fair          6    Yes            No         No  \n",
              "319791              Yes  Very good          5    Yes            No         No  \n",
              "319792              Yes       Good          6     No            No         No  \n",
              "319793               No       Good         12     No            No         No  \n",
              "319794              Yes       Good          8     No            No         No  \n",
              "\n",
              "[319795 rows x 18 columns]"
            ],
            "text/html": [
              "\n",
              "  <div id=\"df-73382528-6945-4609-971a-1c9cbf8b63a1\" class=\"colab-df-container\">\n",
              "    <div>\n",
              "<style scoped>\n",
              "    .dataframe tbody tr th:only-of-type {\n",
              "        vertical-align: middle;\n",
              "    }\n",
              "\n",
              "    .dataframe tbody tr th {\n",
              "        vertical-align: top;\n",
              "    }\n",
              "\n",
              "    .dataframe thead th {\n",
              "        text-align: right;\n",
              "    }\n",
              "</style>\n",
              "<table border=\"1\" class=\"dataframe\">\n",
              "  <thead>\n",
              "    <tr style=\"text-align: right;\">\n",
              "      <th></th>\n",
              "      <th>HeartDisease</th>\n",
              "      <th>BMI</th>\n",
              "      <th>Smoking</th>\n",
              "      <th>AlcoholDrinking</th>\n",
              "      <th>Stroke</th>\n",
              "      <th>PhysicalHealth</th>\n",
              "      <th>MentalHealth</th>\n",
              "      <th>DiffWalking</th>\n",
              "      <th>Sex</th>\n",
              "      <th>AgeCategory</th>\n",
              "      <th>Race</th>\n",
              "      <th>Diabetic</th>\n",
              "      <th>PhysicalActivity</th>\n",
              "      <th>GenHealth</th>\n",
              "      <th>SleepTime</th>\n",
              "      <th>Asthma</th>\n",
              "      <th>KidneyDisease</th>\n",
              "      <th>SkinCancer</th>\n",
              "    </tr>\n",
              "  </thead>\n",
              "  <tbody>\n",
              "    <tr>\n",
              "      <th>0</th>\n",
              "      <td>No</td>\n",
              "      <td>16.60</td>\n",
              "      <td>Yes</td>\n",
              "      <td>No</td>\n",
              "      <td>No</td>\n",
              "      <td>3</td>\n",
              "      <td>30</td>\n",
              "      <td>No</td>\n",
              "      <td>Female</td>\n",
              "      <td>55-59</td>\n",
              "      <td>White</td>\n",
              "      <td>Yes</td>\n",
              "      <td>Yes</td>\n",
              "      <td>Very good</td>\n",
              "      <td>5</td>\n",
              "      <td>Yes</td>\n",
              "      <td>No</td>\n",
              "      <td>Yes</td>\n",
              "    </tr>\n",
              "    <tr>\n",
              "      <th>1</th>\n",
              "      <td>No</td>\n",
              "      <td>20.34</td>\n",
              "      <td>No</td>\n",
              "      <td>No</td>\n",
              "      <td>Yes</td>\n",
              "      <td>0</td>\n",
              "      <td>0</td>\n",
              "      <td>No</td>\n",
              "      <td>Female</td>\n",
              "      <td>80 or older</td>\n",
              "      <td>White</td>\n",
              "      <td>No</td>\n",
              "      <td>Yes</td>\n",
              "      <td>Very good</td>\n",
              "      <td>7</td>\n",
              "      <td>No</td>\n",
              "      <td>No</td>\n",
              "      <td>No</td>\n",
              "    </tr>\n",
              "    <tr>\n",
              "      <th>2</th>\n",
              "      <td>No</td>\n",
              "      <td>26.58</td>\n",
              "      <td>Yes</td>\n",
              "      <td>No</td>\n",
              "      <td>No</td>\n",
              "      <td>20</td>\n",
              "      <td>30</td>\n",
              "      <td>No</td>\n",
              "      <td>Male</td>\n",
              "      <td>65-69</td>\n",
              "      <td>White</td>\n",
              "      <td>Yes</td>\n",
              "      <td>Yes</td>\n",
              "      <td>Fair</td>\n",
              "      <td>8</td>\n",
              "      <td>Yes</td>\n",
              "      <td>No</td>\n",
              "      <td>No</td>\n",
              "    </tr>\n",
              "    <tr>\n",
              "      <th>3</th>\n",
              "      <td>No</td>\n",
              "      <td>24.21</td>\n",
              "      <td>No</td>\n",
              "      <td>No</td>\n",
              "      <td>No</td>\n",
              "      <td>0</td>\n",
              "      <td>0</td>\n",
              "      <td>No</td>\n",
              "      <td>Female</td>\n",
              "      <td>75-79</td>\n",
              "      <td>White</td>\n",
              "      <td>No</td>\n",
              "      <td>No</td>\n",
              "      <td>Good</td>\n",
              "      <td>6</td>\n",
              "      <td>No</td>\n",
              "      <td>No</td>\n",
              "      <td>Yes</td>\n",
              "    </tr>\n",
              "    <tr>\n",
              "      <th>4</th>\n",
              "      <td>No</td>\n",
              "      <td>23.71</td>\n",
              "      <td>No</td>\n",
              "      <td>No</td>\n",
              "      <td>No</td>\n",
              "      <td>28</td>\n",
              "      <td>0</td>\n",
              "      <td>Yes</td>\n",
              "      <td>Female</td>\n",
              "      <td>40-44</td>\n",
              "      <td>White</td>\n",
              "      <td>No</td>\n",
              "      <td>Yes</td>\n",
              "      <td>Very good</td>\n",
              "      <td>8</td>\n",
              "      <td>No</td>\n",
              "      <td>No</td>\n",
              "      <td>No</td>\n",
              "    </tr>\n",
              "    <tr>\n",
              "      <th>...</th>\n",
              "      <td>...</td>\n",
              "      <td>...</td>\n",
              "      <td>...</td>\n",
              "      <td>...</td>\n",
              "      <td>...</td>\n",
              "      <td>...</td>\n",
              "      <td>...</td>\n",
              "      <td>...</td>\n",
              "      <td>...</td>\n",
              "      <td>...</td>\n",
              "      <td>...</td>\n",
              "      <td>...</td>\n",
              "      <td>...</td>\n",
              "      <td>...</td>\n",
              "      <td>...</td>\n",
              "      <td>...</td>\n",
              "      <td>...</td>\n",
              "      <td>...</td>\n",
              "    </tr>\n",
              "    <tr>\n",
              "      <th>319790</th>\n",
              "      <td>Yes</td>\n",
              "      <td>27.41</td>\n",
              "      <td>Yes</td>\n",
              "      <td>No</td>\n",
              "      <td>No</td>\n",
              "      <td>7</td>\n",
              "      <td>0</td>\n",
              "      <td>Yes</td>\n",
              "      <td>Male</td>\n",
              "      <td>60-64</td>\n",
              "      <td>Hispanic</td>\n",
              "      <td>Yes</td>\n",
              "      <td>No</td>\n",
              "      <td>Fair</td>\n",
              "      <td>6</td>\n",
              "      <td>Yes</td>\n",
              "      <td>No</td>\n",
              "      <td>No</td>\n",
              "    </tr>\n",
              "    <tr>\n",
              "      <th>319791</th>\n",
              "      <td>No</td>\n",
              "      <td>29.84</td>\n",
              "      <td>Yes</td>\n",
              "      <td>No</td>\n",
              "      <td>No</td>\n",
              "      <td>0</td>\n",
              "      <td>0</td>\n",
              "      <td>No</td>\n",
              "      <td>Male</td>\n",
              "      <td>35-39</td>\n",
              "      <td>Hispanic</td>\n",
              "      <td>No</td>\n",
              "      <td>Yes</td>\n",
              "      <td>Very good</td>\n",
              "      <td>5</td>\n",
              "      <td>Yes</td>\n",
              "      <td>No</td>\n",
              "      <td>No</td>\n",
              "    </tr>\n",
              "    <tr>\n",
              "      <th>319792</th>\n",
              "      <td>No</td>\n",
              "      <td>24.24</td>\n",
              "      <td>No</td>\n",
              "      <td>No</td>\n",
              "      <td>No</td>\n",
              "      <td>0</td>\n",
              "      <td>0</td>\n",
              "      <td>No</td>\n",
              "      <td>Female</td>\n",
              "      <td>45-49</td>\n",
              "      <td>Hispanic</td>\n",
              "      <td>No</td>\n",
              "      <td>Yes</td>\n",
              "      <td>Good</td>\n",
              "      <td>6</td>\n",
              "      <td>No</td>\n",
              "      <td>No</td>\n",
              "      <td>No</td>\n",
              "    </tr>\n",
              "    <tr>\n",
              "      <th>319793</th>\n",
              "      <td>No</td>\n",
              "      <td>32.81</td>\n",
              "      <td>No</td>\n",
              "      <td>No</td>\n",
              "      <td>No</td>\n",
              "      <td>0</td>\n",
              "      <td>0</td>\n",
              "      <td>No</td>\n",
              "      <td>Female</td>\n",
              "      <td>25-29</td>\n",
              "      <td>Hispanic</td>\n",
              "      <td>No</td>\n",
              "      <td>No</td>\n",
              "      <td>Good</td>\n",
              "      <td>12</td>\n",
              "      <td>No</td>\n",
              "      <td>No</td>\n",
              "      <td>No</td>\n",
              "    </tr>\n",
              "    <tr>\n",
              "      <th>319794</th>\n",
              "      <td>No</td>\n",
              "      <td>46.56</td>\n",
              "      <td>No</td>\n",
              "      <td>No</td>\n",
              "      <td>No</td>\n",
              "      <td>0</td>\n",
              "      <td>0</td>\n",
              "      <td>No</td>\n",
              "      <td>Female</td>\n",
              "      <td>80 or older</td>\n",
              "      <td>Hispanic</td>\n",
              "      <td>No</td>\n",
              "      <td>Yes</td>\n",
              "      <td>Good</td>\n",
              "      <td>8</td>\n",
              "      <td>No</td>\n",
              "      <td>No</td>\n",
              "      <td>No</td>\n",
              "    </tr>\n",
              "  </tbody>\n",
              "</table>\n",
              "<p>319795 rows × 18 columns</p>\n",
              "</div>\n",
              "    <div class=\"colab-df-buttons\">\n",
              "\n",
              "  <div class=\"colab-df-container\">\n",
              "    <button class=\"colab-df-convert\" onclick=\"convertToInteractive('df-73382528-6945-4609-971a-1c9cbf8b63a1')\"\n",
              "            title=\"Convert this dataframe to an interactive table.\"\n",
              "            style=\"display:none;\">\n",
              "\n",
              "  <svg xmlns=\"http://www.w3.org/2000/svg\" height=\"24px\" viewBox=\"0 -960 960 960\">\n",
              "    <path d=\"M120-120v-720h720v720H120Zm60-500h600v-160H180v160Zm220 220h160v-160H400v160Zm0 220h160v-160H400v160ZM180-400h160v-160H180v160Zm440 0h160v-160H620v160ZM180-180h160v-160H180v160Zm440 0h160v-160H620v160Z\"/>\n",
              "  </svg>\n",
              "    </button>\n",
              "\n",
              "  <style>\n",
              "    .colab-df-container {\n",
              "      display:flex;\n",
              "      gap: 12px;\n",
              "    }\n",
              "\n",
              "    .colab-df-convert {\n",
              "      background-color: #E8F0FE;\n",
              "      border: none;\n",
              "      border-radius: 50%;\n",
              "      cursor: pointer;\n",
              "      display: none;\n",
              "      fill: #1967D2;\n",
              "      height: 32px;\n",
              "      padding: 0 0 0 0;\n",
              "      width: 32px;\n",
              "    }\n",
              "\n",
              "    .colab-df-convert:hover {\n",
              "      background-color: #E2EBFA;\n",
              "      box-shadow: 0px 1px 2px rgba(60, 64, 67, 0.3), 0px 1px 3px 1px rgba(60, 64, 67, 0.15);\n",
              "      fill: #174EA6;\n",
              "    }\n",
              "\n",
              "    .colab-df-buttons div {\n",
              "      margin-bottom: 4px;\n",
              "    }\n",
              "\n",
              "    [theme=dark] .colab-df-convert {\n",
              "      background-color: #3B4455;\n",
              "      fill: #D2E3FC;\n",
              "    }\n",
              "\n",
              "    [theme=dark] .colab-df-convert:hover {\n",
              "      background-color: #434B5C;\n",
              "      box-shadow: 0px 1px 3px 1px rgba(0, 0, 0, 0.15);\n",
              "      filter: drop-shadow(0px 1px 2px rgba(0, 0, 0, 0.3));\n",
              "      fill: #FFFFFF;\n",
              "    }\n",
              "  </style>\n",
              "\n",
              "    <script>\n",
              "      const buttonEl =\n",
              "        document.querySelector('#df-73382528-6945-4609-971a-1c9cbf8b63a1 button.colab-df-convert');\n",
              "      buttonEl.style.display =\n",
              "        google.colab.kernel.accessAllowed ? 'block' : 'none';\n",
              "\n",
              "      async function convertToInteractive(key) {\n",
              "        const element = document.querySelector('#df-73382528-6945-4609-971a-1c9cbf8b63a1');\n",
              "        const dataTable =\n",
              "          await google.colab.kernel.invokeFunction('convertToInteractive',\n",
              "                                                    [key], {});\n",
              "        if (!dataTable) return;\n",
              "\n",
              "        const docLinkHtml = 'Like what you see? Visit the ' +\n",
              "          '<a target=\"_blank\" href=https://colab.research.google.com/notebooks/data_table.ipynb>data table notebook</a>'\n",
              "          + ' to learn more about interactive tables.';\n",
              "        element.innerHTML = '';\n",
              "        dataTable['output_type'] = 'display_data';\n",
              "        await google.colab.output.renderOutput(dataTable, element);\n",
              "        const docLink = document.createElement('div');\n",
              "        docLink.innerHTML = docLinkHtml;\n",
              "        element.appendChild(docLink);\n",
              "      }\n",
              "    </script>\n",
              "  </div>\n",
              "\n",
              "\n",
              "    <div id=\"df-9e794e27-a81e-4bd7-a15a-01e74abb2a57\">\n",
              "      <button class=\"colab-df-quickchart\" onclick=\"quickchart('df-9e794e27-a81e-4bd7-a15a-01e74abb2a57')\"\n",
              "                title=\"Suggest charts\"\n",
              "                style=\"display:none;\">\n",
              "\n",
              "<svg xmlns=\"http://www.w3.org/2000/svg\" height=\"24px\"viewBox=\"0 0 24 24\"\n",
              "     width=\"24px\">\n",
              "    <g>\n",
              "        <path d=\"M19 3H5c-1.1 0-2 .9-2 2v14c0 1.1.9 2 2 2h14c1.1 0 2-.9 2-2V5c0-1.1-.9-2-2-2zM9 17H7v-7h2v7zm4 0h-2V7h2v10zm4 0h-2v-4h2v4z\"/>\n",
              "    </g>\n",
              "</svg>\n",
              "      </button>\n",
              "\n",
              "<style>\n",
              "  .colab-df-quickchart {\n",
              "      --bg-color: #E8F0FE;\n",
              "      --fill-color: #1967D2;\n",
              "      --hover-bg-color: #E2EBFA;\n",
              "      --hover-fill-color: #174EA6;\n",
              "      --disabled-fill-color: #AAA;\n",
              "      --disabled-bg-color: #DDD;\n",
              "  }\n",
              "\n",
              "  [theme=dark] .colab-df-quickchart {\n",
              "      --bg-color: #3B4455;\n",
              "      --fill-color: #D2E3FC;\n",
              "      --hover-bg-color: #434B5C;\n",
              "      --hover-fill-color: #FFFFFF;\n",
              "      --disabled-bg-color: #3B4455;\n",
              "      --disabled-fill-color: #666;\n",
              "  }\n",
              "\n",
              "  .colab-df-quickchart {\n",
              "    background-color: var(--bg-color);\n",
              "    border: none;\n",
              "    border-radius: 50%;\n",
              "    cursor: pointer;\n",
              "    display: none;\n",
              "    fill: var(--fill-color);\n",
              "    height: 32px;\n",
              "    padding: 0;\n",
              "    width: 32px;\n",
              "  }\n",
              "\n",
              "  .colab-df-quickchart:hover {\n",
              "    background-color: var(--hover-bg-color);\n",
              "    box-shadow: 0 1px 2px rgba(60, 64, 67, 0.3), 0 1px 3px 1px rgba(60, 64, 67, 0.15);\n",
              "    fill: var(--button-hover-fill-color);\n",
              "  }\n",
              "\n",
              "  .colab-df-quickchart-complete:disabled,\n",
              "  .colab-df-quickchart-complete:disabled:hover {\n",
              "    background-color: var(--disabled-bg-color);\n",
              "    fill: var(--disabled-fill-color);\n",
              "    box-shadow: none;\n",
              "  }\n",
              "\n",
              "  .colab-df-spinner {\n",
              "    border: 2px solid var(--fill-color);\n",
              "    border-color: transparent;\n",
              "    border-bottom-color: var(--fill-color);\n",
              "    animation:\n",
              "      spin 1s steps(1) infinite;\n",
              "  }\n",
              "\n",
              "  @keyframes spin {\n",
              "    0% {\n",
              "      border-color: transparent;\n",
              "      border-bottom-color: var(--fill-color);\n",
              "      border-left-color: var(--fill-color);\n",
              "    }\n",
              "    20% {\n",
              "      border-color: transparent;\n",
              "      border-left-color: var(--fill-color);\n",
              "      border-top-color: var(--fill-color);\n",
              "    }\n",
              "    30% {\n",
              "      border-color: transparent;\n",
              "      border-left-color: var(--fill-color);\n",
              "      border-top-color: var(--fill-color);\n",
              "      border-right-color: var(--fill-color);\n",
              "    }\n",
              "    40% {\n",
              "      border-color: transparent;\n",
              "      border-right-color: var(--fill-color);\n",
              "      border-top-color: var(--fill-color);\n",
              "    }\n",
              "    60% {\n",
              "      border-color: transparent;\n",
              "      border-right-color: var(--fill-color);\n",
              "    }\n",
              "    80% {\n",
              "      border-color: transparent;\n",
              "      border-right-color: var(--fill-color);\n",
              "      border-bottom-color: var(--fill-color);\n",
              "    }\n",
              "    90% {\n",
              "      border-color: transparent;\n",
              "      border-bottom-color: var(--fill-color);\n",
              "    }\n",
              "  }\n",
              "</style>\n",
              "\n",
              "      <script>\n",
              "        async function quickchart(key) {\n",
              "          const quickchartButtonEl =\n",
              "            document.querySelector('#' + key + ' button');\n",
              "          quickchartButtonEl.disabled = true;  // To prevent multiple clicks.\n",
              "          quickchartButtonEl.classList.add('colab-df-spinner');\n",
              "          try {\n",
              "            const charts = await google.colab.kernel.invokeFunction(\n",
              "                'suggestCharts', [key], {});\n",
              "          } catch (error) {\n",
              "            console.error('Error during call to suggestCharts:', error);\n",
              "          }\n",
              "          quickchartButtonEl.classList.remove('colab-df-spinner');\n",
              "          quickchartButtonEl.classList.add('colab-df-quickchart-complete');\n",
              "        }\n",
              "        (() => {\n",
              "          let quickchartButtonEl =\n",
              "            document.querySelector('#df-9e794e27-a81e-4bd7-a15a-01e74abb2a57 button');\n",
              "          quickchartButtonEl.style.display =\n",
              "            google.colab.kernel.accessAllowed ? 'block' : 'none';\n",
              "        })();\n",
              "      </script>\n",
              "    </div>\n",
              "    </div>\n",
              "  </div>\n"
            ],
            "application/vnd.google.colaboratory.intrinsic+json": {
              "type": "dataframe",
              "variable_name": "df"
            }
          },
          "metadata": {}
        }
      ],
      "source": [
        "# import pandas as pd for data manipulation\n",
        "import numpy as np # linear algebra\n",
        "import pandas as pd # data processing, CSV file I/O (e.g. pd.read_csv)\n",
        "\n",
        "df = pd.read_csv('https://raw.githubusercontent.com/Machine-Learning-Projects1/2020-BRFSS-Codebook-CDC/main/dataset/heart_2020_cleaned.csv')\n",
        "# df = pd.read_csv('/kaggle/input/personal-key-indicators-of-heart-disease/heart_2020_cleaned.csv')\n",
        "df_org = df.copy() # make a copy of the original data frame\n",
        "display(df)"
      ]
    },
    {
      "cell_type": "code",
      "execution_count": null,
      "metadata": {
        "id": "7519b35b"
      },
      "outputs": [],
      "source": [
        "# copied original dataframe to new dataframe for new encoding methods\n",
        "df_enc = df_org.copy()"
      ]
    },
    {
      "cell_type": "code",
      "execution_count": null,
      "metadata": {
        "id": "cb2eb2fc"
      },
      "outputs": [],
      "source": [
        "import pandas as pd\n",
        "from sklearn.preprocessing import LabelEncoder\n",
        "\n",
        "# Define a LabelEncoder\n",
        "le = LabelEncoder()\n",
        "\n",
        "# Get a list of categorical column names\n",
        "categorical_cols = df_enc.select_dtypes(include=['object', 'category']).columns.tolist()\n",
        "\n",
        "# mix of label encoding and one-hot encoding\n",
        "for col in categorical_cols:\n",
        "    if len(df_enc[col].unique()) <= 2:\n",
        "        # label encode binary variables\n",
        "        df_enc[col] = le.fit_transform(df_enc[col])\n",
        "    else:\n",
        "        # one-hot encode non-binary variables\n",
        "        df_enc = pd.get_dummies(df_enc, columns=[col])"
      ]
    },
    {
      "cell_type": "code",
      "execution_count": null,
      "metadata": {
        "colab": {
          "base_uri": "https://localhost:8080/",
          "height": 478
        },
        "id": "qXSnp7BTX7Nh",
        "outputId": "d64633af-44a6-461d-b0e5-469bbc11aee5"
      },
      "outputs": [
        {
          "output_type": "execute_result",
          "data": {
            "text/plain": [
              "        HeartDisease    BMI  Smoking  AlcoholDrinking  Stroke  PhysicalHealth  \\\n",
              "0                  0  16.60        1                0       0               3   \n",
              "1                  0  20.34        0                0       1               0   \n",
              "2                  0  26.58        1                0       0              20   \n",
              "3                  0  24.21        0                0       0               0   \n",
              "4                  0  23.71        0                0       0              28   \n",
              "...              ...    ...      ...              ...     ...             ...   \n",
              "319790             1  27.41        1                0       0               7   \n",
              "319791             0  29.84        1                0       0               0   \n",
              "319792             0  24.24        0                0       0               0   \n",
              "319793             0  32.81        0                0       0               0   \n",
              "319794             0  46.56        0                0       0               0   \n",
              "\n",
              "        MentalHealth  DiffWalking  Sex  PhysicalActivity  ...  Race_White  \\\n",
              "0                 30            0    0                 1  ...        True   \n",
              "1                  0            0    0                 1  ...        True   \n",
              "2                 30            0    1                 1  ...        True   \n",
              "3                  0            0    0                 0  ...        True   \n",
              "4                  0            1    0                 1  ...        True   \n",
              "...              ...          ...  ...               ...  ...         ...   \n",
              "319790             0            1    1                 0  ...       False   \n",
              "319791             0            0    1                 1  ...       False   \n",
              "319792             0            0    0                 1  ...       False   \n",
              "319793             0            0    0                 0  ...       False   \n",
              "319794             0            0    0                 1  ...       False   \n",
              "\n",
              "        Diabetic_No  Diabetic_No, borderline diabetes  Diabetic_Yes  \\\n",
              "0             False                             False          True   \n",
              "1              True                             False         False   \n",
              "2             False                             False          True   \n",
              "3              True                             False         False   \n",
              "4              True                             False         False   \n",
              "...             ...                               ...           ...   \n",
              "319790        False                             False          True   \n",
              "319791         True                             False         False   \n",
              "319792         True                             False         False   \n",
              "319793         True                             False         False   \n",
              "319794         True                             False         False   \n",
              "\n",
              "        Diabetic_Yes (during pregnancy)  GenHealth_Excellent  GenHealth_Fair  \\\n",
              "0                                 False                False           False   \n",
              "1                                 False                False           False   \n",
              "2                                 False                False            True   \n",
              "3                                 False                False           False   \n",
              "4                                 False                False           False   \n",
              "...                                 ...                  ...             ...   \n",
              "319790                            False                False            True   \n",
              "319791                            False                False           False   \n",
              "319792                            False                False           False   \n",
              "319793                            False                False           False   \n",
              "319794                            False                False           False   \n",
              "\n",
              "        GenHealth_Good  GenHealth_Poor  GenHealth_Very good  \n",
              "0                False           False                 True  \n",
              "1                False           False                 True  \n",
              "2                False           False                False  \n",
              "3                 True           False                False  \n",
              "4                False           False                 True  \n",
              "...                ...             ...                  ...  \n",
              "319790           False           False                False  \n",
              "319791           False           False                 True  \n",
              "319792            True           False                False  \n",
              "319793            True           False                False  \n",
              "319794            True           False                False  \n",
              "\n",
              "[319795 rows x 42 columns]"
            ],
            "text/html": [
              "\n",
              "  <div id=\"df-323d0eea-d500-4241-b24a-6f97c84ecda7\" class=\"colab-df-container\">\n",
              "    <div>\n",
              "<style scoped>\n",
              "    .dataframe tbody tr th:only-of-type {\n",
              "        vertical-align: middle;\n",
              "    }\n",
              "\n",
              "    .dataframe tbody tr th {\n",
              "        vertical-align: top;\n",
              "    }\n",
              "\n",
              "    .dataframe thead th {\n",
              "        text-align: right;\n",
              "    }\n",
              "</style>\n",
              "<table border=\"1\" class=\"dataframe\">\n",
              "  <thead>\n",
              "    <tr style=\"text-align: right;\">\n",
              "      <th></th>\n",
              "      <th>HeartDisease</th>\n",
              "      <th>BMI</th>\n",
              "      <th>Smoking</th>\n",
              "      <th>AlcoholDrinking</th>\n",
              "      <th>Stroke</th>\n",
              "      <th>PhysicalHealth</th>\n",
              "      <th>MentalHealth</th>\n",
              "      <th>DiffWalking</th>\n",
              "      <th>Sex</th>\n",
              "      <th>PhysicalActivity</th>\n",
              "      <th>...</th>\n",
              "      <th>Race_White</th>\n",
              "      <th>Diabetic_No</th>\n",
              "      <th>Diabetic_No, borderline diabetes</th>\n",
              "      <th>Diabetic_Yes</th>\n",
              "      <th>Diabetic_Yes (during pregnancy)</th>\n",
              "      <th>GenHealth_Excellent</th>\n",
              "      <th>GenHealth_Fair</th>\n",
              "      <th>GenHealth_Good</th>\n",
              "      <th>GenHealth_Poor</th>\n",
              "      <th>GenHealth_Very good</th>\n",
              "    </tr>\n",
              "  </thead>\n",
              "  <tbody>\n",
              "    <tr>\n",
              "      <th>0</th>\n",
              "      <td>0</td>\n",
              "      <td>16.60</td>\n",
              "      <td>1</td>\n",
              "      <td>0</td>\n",
              "      <td>0</td>\n",
              "      <td>3</td>\n",
              "      <td>30</td>\n",
              "      <td>0</td>\n",
              "      <td>0</td>\n",
              "      <td>1</td>\n",
              "      <td>...</td>\n",
              "      <td>True</td>\n",
              "      <td>False</td>\n",
              "      <td>False</td>\n",
              "      <td>True</td>\n",
              "      <td>False</td>\n",
              "      <td>False</td>\n",
              "      <td>False</td>\n",
              "      <td>False</td>\n",
              "      <td>False</td>\n",
              "      <td>True</td>\n",
              "    </tr>\n",
              "    <tr>\n",
              "      <th>1</th>\n",
              "      <td>0</td>\n",
              "      <td>20.34</td>\n",
              "      <td>0</td>\n",
              "      <td>0</td>\n",
              "      <td>1</td>\n",
              "      <td>0</td>\n",
              "      <td>0</td>\n",
              "      <td>0</td>\n",
              "      <td>0</td>\n",
              "      <td>1</td>\n",
              "      <td>...</td>\n",
              "      <td>True</td>\n",
              "      <td>True</td>\n",
              "      <td>False</td>\n",
              "      <td>False</td>\n",
              "      <td>False</td>\n",
              "      <td>False</td>\n",
              "      <td>False</td>\n",
              "      <td>False</td>\n",
              "      <td>False</td>\n",
              "      <td>True</td>\n",
              "    </tr>\n",
              "    <tr>\n",
              "      <th>2</th>\n",
              "      <td>0</td>\n",
              "      <td>26.58</td>\n",
              "      <td>1</td>\n",
              "      <td>0</td>\n",
              "      <td>0</td>\n",
              "      <td>20</td>\n",
              "      <td>30</td>\n",
              "      <td>0</td>\n",
              "      <td>1</td>\n",
              "      <td>1</td>\n",
              "      <td>...</td>\n",
              "      <td>True</td>\n",
              "      <td>False</td>\n",
              "      <td>False</td>\n",
              "      <td>True</td>\n",
              "      <td>False</td>\n",
              "      <td>False</td>\n",
              "      <td>True</td>\n",
              "      <td>False</td>\n",
              "      <td>False</td>\n",
              "      <td>False</td>\n",
              "    </tr>\n",
              "    <tr>\n",
              "      <th>3</th>\n",
              "      <td>0</td>\n",
              "      <td>24.21</td>\n",
              "      <td>0</td>\n",
              "      <td>0</td>\n",
              "      <td>0</td>\n",
              "      <td>0</td>\n",
              "      <td>0</td>\n",
              "      <td>0</td>\n",
              "      <td>0</td>\n",
              "      <td>0</td>\n",
              "      <td>...</td>\n",
              "      <td>True</td>\n",
              "      <td>True</td>\n",
              "      <td>False</td>\n",
              "      <td>False</td>\n",
              "      <td>False</td>\n",
              "      <td>False</td>\n",
              "      <td>False</td>\n",
              "      <td>True</td>\n",
              "      <td>False</td>\n",
              "      <td>False</td>\n",
              "    </tr>\n",
              "    <tr>\n",
              "      <th>4</th>\n",
              "      <td>0</td>\n",
              "      <td>23.71</td>\n",
              "      <td>0</td>\n",
              "      <td>0</td>\n",
              "      <td>0</td>\n",
              "      <td>28</td>\n",
              "      <td>0</td>\n",
              "      <td>1</td>\n",
              "      <td>0</td>\n",
              "      <td>1</td>\n",
              "      <td>...</td>\n",
              "      <td>True</td>\n",
              "      <td>True</td>\n",
              "      <td>False</td>\n",
              "      <td>False</td>\n",
              "      <td>False</td>\n",
              "      <td>False</td>\n",
              "      <td>False</td>\n",
              "      <td>False</td>\n",
              "      <td>False</td>\n",
              "      <td>True</td>\n",
              "    </tr>\n",
              "    <tr>\n",
              "      <th>...</th>\n",
              "      <td>...</td>\n",
              "      <td>...</td>\n",
              "      <td>...</td>\n",
              "      <td>...</td>\n",
              "      <td>...</td>\n",
              "      <td>...</td>\n",
              "      <td>...</td>\n",
              "      <td>...</td>\n",
              "      <td>...</td>\n",
              "      <td>...</td>\n",
              "      <td>...</td>\n",
              "      <td>...</td>\n",
              "      <td>...</td>\n",
              "      <td>...</td>\n",
              "      <td>...</td>\n",
              "      <td>...</td>\n",
              "      <td>...</td>\n",
              "      <td>...</td>\n",
              "      <td>...</td>\n",
              "      <td>...</td>\n",
              "      <td>...</td>\n",
              "    </tr>\n",
              "    <tr>\n",
              "      <th>319790</th>\n",
              "      <td>1</td>\n",
              "      <td>27.41</td>\n",
              "      <td>1</td>\n",
              "      <td>0</td>\n",
              "      <td>0</td>\n",
              "      <td>7</td>\n",
              "      <td>0</td>\n",
              "      <td>1</td>\n",
              "      <td>1</td>\n",
              "      <td>0</td>\n",
              "      <td>...</td>\n",
              "      <td>False</td>\n",
              "      <td>False</td>\n",
              "      <td>False</td>\n",
              "      <td>True</td>\n",
              "      <td>False</td>\n",
              "      <td>False</td>\n",
              "      <td>True</td>\n",
              "      <td>False</td>\n",
              "      <td>False</td>\n",
              "      <td>False</td>\n",
              "    </tr>\n",
              "    <tr>\n",
              "      <th>319791</th>\n",
              "      <td>0</td>\n",
              "      <td>29.84</td>\n",
              "      <td>1</td>\n",
              "      <td>0</td>\n",
              "      <td>0</td>\n",
              "      <td>0</td>\n",
              "      <td>0</td>\n",
              "      <td>0</td>\n",
              "      <td>1</td>\n",
              "      <td>1</td>\n",
              "      <td>...</td>\n",
              "      <td>False</td>\n",
              "      <td>True</td>\n",
              "      <td>False</td>\n",
              "      <td>False</td>\n",
              "      <td>False</td>\n",
              "      <td>False</td>\n",
              "      <td>False</td>\n",
              "      <td>False</td>\n",
              "      <td>False</td>\n",
              "      <td>True</td>\n",
              "    </tr>\n",
              "    <tr>\n",
              "      <th>319792</th>\n",
              "      <td>0</td>\n",
              "      <td>24.24</td>\n",
              "      <td>0</td>\n",
              "      <td>0</td>\n",
              "      <td>0</td>\n",
              "      <td>0</td>\n",
              "      <td>0</td>\n",
              "      <td>0</td>\n",
              "      <td>0</td>\n",
              "      <td>1</td>\n",
              "      <td>...</td>\n",
              "      <td>False</td>\n",
              "      <td>True</td>\n",
              "      <td>False</td>\n",
              "      <td>False</td>\n",
              "      <td>False</td>\n",
              "      <td>False</td>\n",
              "      <td>False</td>\n",
              "      <td>True</td>\n",
              "      <td>False</td>\n",
              "      <td>False</td>\n",
              "    </tr>\n",
              "    <tr>\n",
              "      <th>319793</th>\n",
              "      <td>0</td>\n",
              "      <td>32.81</td>\n",
              "      <td>0</td>\n",
              "      <td>0</td>\n",
              "      <td>0</td>\n",
              "      <td>0</td>\n",
              "      <td>0</td>\n",
              "      <td>0</td>\n",
              "      <td>0</td>\n",
              "      <td>0</td>\n",
              "      <td>...</td>\n",
              "      <td>False</td>\n",
              "      <td>True</td>\n",
              "      <td>False</td>\n",
              "      <td>False</td>\n",
              "      <td>False</td>\n",
              "      <td>False</td>\n",
              "      <td>False</td>\n",
              "      <td>True</td>\n",
              "      <td>False</td>\n",
              "      <td>False</td>\n",
              "    </tr>\n",
              "    <tr>\n",
              "      <th>319794</th>\n",
              "      <td>0</td>\n",
              "      <td>46.56</td>\n",
              "      <td>0</td>\n",
              "      <td>0</td>\n",
              "      <td>0</td>\n",
              "      <td>0</td>\n",
              "      <td>0</td>\n",
              "      <td>0</td>\n",
              "      <td>0</td>\n",
              "      <td>1</td>\n",
              "      <td>...</td>\n",
              "      <td>False</td>\n",
              "      <td>True</td>\n",
              "      <td>False</td>\n",
              "      <td>False</td>\n",
              "      <td>False</td>\n",
              "      <td>False</td>\n",
              "      <td>False</td>\n",
              "      <td>True</td>\n",
              "      <td>False</td>\n",
              "      <td>False</td>\n",
              "    </tr>\n",
              "  </tbody>\n",
              "</table>\n",
              "<p>319795 rows × 42 columns</p>\n",
              "</div>\n",
              "    <div class=\"colab-df-buttons\">\n",
              "\n",
              "  <div class=\"colab-df-container\">\n",
              "    <button class=\"colab-df-convert\" onclick=\"convertToInteractive('df-323d0eea-d500-4241-b24a-6f97c84ecda7')\"\n",
              "            title=\"Convert this dataframe to an interactive table.\"\n",
              "            style=\"display:none;\">\n",
              "\n",
              "  <svg xmlns=\"http://www.w3.org/2000/svg\" height=\"24px\" viewBox=\"0 -960 960 960\">\n",
              "    <path d=\"M120-120v-720h720v720H120Zm60-500h600v-160H180v160Zm220 220h160v-160H400v160Zm0 220h160v-160H400v160ZM180-400h160v-160H180v160Zm440 0h160v-160H620v160ZM180-180h160v-160H180v160Zm440 0h160v-160H620v160Z\"/>\n",
              "  </svg>\n",
              "    </button>\n",
              "\n",
              "  <style>\n",
              "    .colab-df-container {\n",
              "      display:flex;\n",
              "      gap: 12px;\n",
              "    }\n",
              "\n",
              "    .colab-df-convert {\n",
              "      background-color: #E8F0FE;\n",
              "      border: none;\n",
              "      border-radius: 50%;\n",
              "      cursor: pointer;\n",
              "      display: none;\n",
              "      fill: #1967D2;\n",
              "      height: 32px;\n",
              "      padding: 0 0 0 0;\n",
              "      width: 32px;\n",
              "    }\n",
              "\n",
              "    .colab-df-convert:hover {\n",
              "      background-color: #E2EBFA;\n",
              "      box-shadow: 0px 1px 2px rgba(60, 64, 67, 0.3), 0px 1px 3px 1px rgba(60, 64, 67, 0.15);\n",
              "      fill: #174EA6;\n",
              "    }\n",
              "\n",
              "    .colab-df-buttons div {\n",
              "      margin-bottom: 4px;\n",
              "    }\n",
              "\n",
              "    [theme=dark] .colab-df-convert {\n",
              "      background-color: #3B4455;\n",
              "      fill: #D2E3FC;\n",
              "    }\n",
              "\n",
              "    [theme=dark] .colab-df-convert:hover {\n",
              "      background-color: #434B5C;\n",
              "      box-shadow: 0px 1px 3px 1px rgba(0, 0, 0, 0.15);\n",
              "      filter: drop-shadow(0px 1px 2px rgba(0, 0, 0, 0.3));\n",
              "      fill: #FFFFFF;\n",
              "    }\n",
              "  </style>\n",
              "\n",
              "    <script>\n",
              "      const buttonEl =\n",
              "        document.querySelector('#df-323d0eea-d500-4241-b24a-6f97c84ecda7 button.colab-df-convert');\n",
              "      buttonEl.style.display =\n",
              "        google.colab.kernel.accessAllowed ? 'block' : 'none';\n",
              "\n",
              "      async function convertToInteractive(key) {\n",
              "        const element = document.querySelector('#df-323d0eea-d500-4241-b24a-6f97c84ecda7');\n",
              "        const dataTable =\n",
              "          await google.colab.kernel.invokeFunction('convertToInteractive',\n",
              "                                                    [key], {});\n",
              "        if (!dataTable) return;\n",
              "\n",
              "        const docLinkHtml = 'Like what you see? Visit the ' +\n",
              "          '<a target=\"_blank\" href=https://colab.research.google.com/notebooks/data_table.ipynb>data table notebook</a>'\n",
              "          + ' to learn more about interactive tables.';\n",
              "        element.innerHTML = '';\n",
              "        dataTable['output_type'] = 'display_data';\n",
              "        await google.colab.output.renderOutput(dataTable, element);\n",
              "        const docLink = document.createElement('div');\n",
              "        docLink.innerHTML = docLinkHtml;\n",
              "        element.appendChild(docLink);\n",
              "      }\n",
              "    </script>\n",
              "  </div>\n",
              "\n",
              "\n",
              "    <div id=\"df-f193d30a-3c3c-4d70-822c-6e0a17d37de0\">\n",
              "      <button class=\"colab-df-quickchart\" onclick=\"quickchart('df-f193d30a-3c3c-4d70-822c-6e0a17d37de0')\"\n",
              "                title=\"Suggest charts\"\n",
              "                style=\"display:none;\">\n",
              "\n",
              "<svg xmlns=\"http://www.w3.org/2000/svg\" height=\"24px\"viewBox=\"0 0 24 24\"\n",
              "     width=\"24px\">\n",
              "    <g>\n",
              "        <path d=\"M19 3H5c-1.1 0-2 .9-2 2v14c0 1.1.9 2 2 2h14c1.1 0 2-.9 2-2V5c0-1.1-.9-2-2-2zM9 17H7v-7h2v7zm4 0h-2V7h2v10zm4 0h-2v-4h2v4z\"/>\n",
              "    </g>\n",
              "</svg>\n",
              "      </button>\n",
              "\n",
              "<style>\n",
              "  .colab-df-quickchart {\n",
              "      --bg-color: #E8F0FE;\n",
              "      --fill-color: #1967D2;\n",
              "      --hover-bg-color: #E2EBFA;\n",
              "      --hover-fill-color: #174EA6;\n",
              "      --disabled-fill-color: #AAA;\n",
              "      --disabled-bg-color: #DDD;\n",
              "  }\n",
              "\n",
              "  [theme=dark] .colab-df-quickchart {\n",
              "      --bg-color: #3B4455;\n",
              "      --fill-color: #D2E3FC;\n",
              "      --hover-bg-color: #434B5C;\n",
              "      --hover-fill-color: #FFFFFF;\n",
              "      --disabled-bg-color: #3B4455;\n",
              "      --disabled-fill-color: #666;\n",
              "  }\n",
              "\n",
              "  .colab-df-quickchart {\n",
              "    background-color: var(--bg-color);\n",
              "    border: none;\n",
              "    border-radius: 50%;\n",
              "    cursor: pointer;\n",
              "    display: none;\n",
              "    fill: var(--fill-color);\n",
              "    height: 32px;\n",
              "    padding: 0;\n",
              "    width: 32px;\n",
              "  }\n",
              "\n",
              "  .colab-df-quickchart:hover {\n",
              "    background-color: var(--hover-bg-color);\n",
              "    box-shadow: 0 1px 2px rgba(60, 64, 67, 0.3), 0 1px 3px 1px rgba(60, 64, 67, 0.15);\n",
              "    fill: var(--button-hover-fill-color);\n",
              "  }\n",
              "\n",
              "  .colab-df-quickchart-complete:disabled,\n",
              "  .colab-df-quickchart-complete:disabled:hover {\n",
              "    background-color: var(--disabled-bg-color);\n",
              "    fill: var(--disabled-fill-color);\n",
              "    box-shadow: none;\n",
              "  }\n",
              "\n",
              "  .colab-df-spinner {\n",
              "    border: 2px solid var(--fill-color);\n",
              "    border-color: transparent;\n",
              "    border-bottom-color: var(--fill-color);\n",
              "    animation:\n",
              "      spin 1s steps(1) infinite;\n",
              "  }\n",
              "\n",
              "  @keyframes spin {\n",
              "    0% {\n",
              "      border-color: transparent;\n",
              "      border-bottom-color: var(--fill-color);\n",
              "      border-left-color: var(--fill-color);\n",
              "    }\n",
              "    20% {\n",
              "      border-color: transparent;\n",
              "      border-left-color: var(--fill-color);\n",
              "      border-top-color: var(--fill-color);\n",
              "    }\n",
              "    30% {\n",
              "      border-color: transparent;\n",
              "      border-left-color: var(--fill-color);\n",
              "      border-top-color: var(--fill-color);\n",
              "      border-right-color: var(--fill-color);\n",
              "    }\n",
              "    40% {\n",
              "      border-color: transparent;\n",
              "      border-right-color: var(--fill-color);\n",
              "      border-top-color: var(--fill-color);\n",
              "    }\n",
              "    60% {\n",
              "      border-color: transparent;\n",
              "      border-right-color: var(--fill-color);\n",
              "    }\n",
              "    80% {\n",
              "      border-color: transparent;\n",
              "      border-right-color: var(--fill-color);\n",
              "      border-bottom-color: var(--fill-color);\n",
              "    }\n",
              "    90% {\n",
              "      border-color: transparent;\n",
              "      border-bottom-color: var(--fill-color);\n",
              "    }\n",
              "  }\n",
              "</style>\n",
              "\n",
              "      <script>\n",
              "        async function quickchart(key) {\n",
              "          const quickchartButtonEl =\n",
              "            document.querySelector('#' + key + ' button');\n",
              "          quickchartButtonEl.disabled = true;  // To prevent multiple clicks.\n",
              "          quickchartButtonEl.classList.add('colab-df-spinner');\n",
              "          try {\n",
              "            const charts = await google.colab.kernel.invokeFunction(\n",
              "                'suggestCharts', [key], {});\n",
              "          } catch (error) {\n",
              "            console.error('Error during call to suggestCharts:', error);\n",
              "          }\n",
              "          quickchartButtonEl.classList.remove('colab-df-spinner');\n",
              "          quickchartButtonEl.classList.add('colab-df-quickchart-complete');\n",
              "        }\n",
              "        (() => {\n",
              "          let quickchartButtonEl =\n",
              "            document.querySelector('#df-f193d30a-3c3c-4d70-822c-6e0a17d37de0 button');\n",
              "          quickchartButtonEl.style.display =\n",
              "            google.colab.kernel.accessAllowed ? 'block' : 'none';\n",
              "        })();\n",
              "      </script>\n",
              "    </div>\n",
              "    </div>\n",
              "  </div>\n"
            ],
            "application/vnd.google.colaboratory.intrinsic+json": {
              "type": "dataframe",
              "variable_name": "df_enc"
            }
          },
          "metadata": {},
          "execution_count": 4
        }
      ],
      "source": [
        "df_enc"
      ]
    },
    {
      "cell_type": "markdown",
      "metadata": {
        "id": "a90e239b"
      },
      "source": [
        "#### 5.1.1 Listing the unique values of each column after encoding\n",
        "Here we have all possible values on each feature, so please take a look at an example.\n",
        "\n",
        "- Original: `Diabetic : ['Yes', 'No', 'No-borderline-diabetes', 'Yes-during pregnancy']`\n",
        "- Encoded:\n",
        "  - `Diabetic_Yes : [0, 1]`\n",
        "  - `Diabetic_No : [0, 1]`\n",
        "  - `Diabetic_No-borderline-diabetes : [0, 1]`\n",
        "  - `Diabetic_Yes-during pregnancy : [0, 1]`"
      ]
    },
    {
      "cell_type": "code",
      "execution_count": null,
      "metadata": {
        "colab": {
          "base_uri": "https://localhost:8080/"
        },
        "id": "5c8f4747",
        "outputId": "2021cd81-98f7-4848-ef67-5066c75ecb97"
      },
      "outputs": [
        {
          "output_type": "stream",
          "name": "stdout",
          "text": [
            "HeartDisease : [0 1]\n",
            "BMI : [16.6  20.34 26.58 ... 62.42 51.46 46.56]\n",
            "Smoking : [1 0]\n",
            "AlcoholDrinking : [0 1]\n",
            "Stroke : [0 1]\n",
            "PhysicalHealth : [ 3  0 20 28  6 15  5 30  7  1  2 21  4 10 14 18  8 25 16 29 27 17 24 12\n",
            " 23 26 22 19  9 13 11]\n",
            "MentalHealth : [30  0  2  5 15  8  4  3 10 14 20  1  7 24  9 28 16 12  6 25 17 18 21 29\n",
            " 22 13 23 27 26 11 19]\n",
            "DiffWalking : [0 1]\n",
            "Sex : [0 1]\n",
            "PhysicalActivity : [1 0]\n",
            "SleepTime : [ 5  7  8  6 12  4  9 10 15  3  2  1 16 18 14 20 11 13 17 24 19 21 22 23]\n",
            "Asthma : [1 0]\n",
            "KidneyDisease : [0 1]\n",
            "SkinCancer : [1 0]\n",
            "AgeCategory_18-24 : [False  True]\n",
            "AgeCategory_25-29 : [False  True]\n",
            "AgeCategory_30-34 : [False  True]\n",
            "AgeCategory_35-39 : [False  True]\n",
            "AgeCategory_40-44 : [False  True]\n",
            "AgeCategory_45-49 : [False  True]\n",
            "AgeCategory_50-54 : [False  True]\n",
            "AgeCategory_55-59 : [ True False]\n",
            "AgeCategory_60-64 : [False  True]\n",
            "AgeCategory_65-69 : [False  True]\n",
            "AgeCategory_70-74 : [False  True]\n",
            "AgeCategory_75-79 : [False  True]\n",
            "AgeCategory_80 or older : [False  True]\n",
            "Race_American Indian/Alaskan Native : [False  True]\n",
            "Race_Asian : [False  True]\n",
            "Race_Black : [False  True]\n",
            "Race_Hispanic : [False  True]\n",
            "Race_Other : [False  True]\n",
            "Race_White : [ True False]\n",
            "Diabetic_No : [False  True]\n",
            "Diabetic_No, borderline diabetes : [False  True]\n",
            "Diabetic_Yes : [ True False]\n",
            "Diabetic_Yes (during pregnancy) : [False  True]\n",
            "GenHealth_Excellent : [False  True]\n",
            "GenHealth_Fair : [False  True]\n",
            "GenHealth_Good : [False  True]\n",
            "GenHealth_Poor : [False  True]\n",
            "GenHealth_Very good : [ True False]\n"
          ]
        }
      ],
      "source": [
        "# iterate over the list to print all unique values of each column in the dataframe\n",
        "for column in list(df_enc.columns.values):\n",
        "    print(column, ':', str(df_enc[column].unique()))"
      ]
    },
    {
      "cell_type": "code",
      "execution_count": null,
      "metadata": {
        "id": "3729e526"
      },
      "outputs": [],
      "source": [
        "from sklearn.model_selection import train_test_split"
      ]
    },
    {
      "cell_type": "code",
      "execution_count": null,
      "metadata": {
        "colab": {
          "base_uri": "https://localhost:8080/"
        },
        "id": "12071924",
        "outputId": "6dd749ae-7d77-4567-d1cb-050a4dcf7cea"
      },
      "outputs": [
        {
          "output_type": "execute_result",
          "data": {
            "text/plain": [
              "((255836, 42), (63959, 42))"
            ]
          },
          "metadata": {},
          "execution_count": 7
        }
      ],
      "source": [
        "# split the dataset into train and test set for NEW encoding method\n",
        "train_data_label, test_data_label = train_test_split(df_enc, train_size=0.80)\n",
        "train_data_label.shape, test_data_label.shape"
      ]
    },
    {
      "cell_type": "code",
      "execution_count": null,
      "metadata": {
        "colab": {
          "base_uri": "https://localhost:8080/"
        },
        "id": "26312588",
        "outputId": "7e8e6cfa-0f72-4853-c4af-6463a5ebd392"
      },
      "outputs": [
        {
          "output_type": "stream",
          "name": "stdout",
          "text": [
            "(255836, 41) (255836,)\n",
            "(63959, 41) (63959,)\n"
          ]
        }
      ],
      "source": [
        "# split the train and test set for the NEW encoding method\n",
        "X_train = train_data_label.drop('HeartDisease', axis=1)\n",
        "y_train = train_data_label['HeartDisease']\n",
        "print(X_train.shape, y_train.shape)\n",
        "\n",
        "X_test = test_data_label.drop('HeartDisease', axis=1)\n",
        "y_test = test_data_label['HeartDisease']\n",
        "print(X_test.shape, y_test.shape)"
      ]
    },
    {
      "cell_type": "code",
      "execution_count": null,
      "metadata": {
        "id": "564baa2d"
      },
      "outputs": [],
      "source": [
        "from sklearn.preprocessing import StandardScaler\n",
        "sc=StandardScaler()\n",
        "# there is no data-leakage because we are using\n",
        "# information of train in test not test in train\n",
        "X_train = sc.fit_transform(X_train)\n",
        "X_test = sc.transform(X_test)"
      ]
    },
    {
      "cell_type": "code",
      "execution_count": null,
      "metadata": {
        "colab": {
          "base_uri": "https://localhost:8080/"
        },
        "id": "75ddd630",
        "outputId": "b01c8c40-1569-480a-e389-46fc998b0cf5"
      },
      "outputs": [
        {
          "output_type": "execute_result",
          "data": {
            "text/plain": [
              "array([[-0.14367572,  1.19190031,  3.69245885, ...,  1.55934376,\n",
              "        -0.19153081, -0.74351698],\n",
              "       [-0.63541017, -0.83899634, -0.27082225, ..., -0.64129541,\n",
              "        -0.19153081, -0.74351698],\n",
              "       [-0.78937176, -0.83899634, -0.27082225, ..., -0.64129541,\n",
              "        -0.19153081,  1.3449592 ],\n",
              "       ...,\n",
              "       [ 0.08883769, -0.83899634, -0.27082225, ..., -0.64129541,\n",
              "        -0.19153081, -0.74351698],\n",
              "       [-0.60870255, -0.83899634, -0.27082225, ..., -0.64129541,\n",
              "        -0.19153081, -0.74351698],\n",
              "       [-0.09497359, -0.83899634, -0.27082225, ..., -0.64129541,\n",
              "        -0.19153081,  1.3449592 ]])"
            ]
          },
          "metadata": {},
          "execution_count": 10
        }
      ],
      "source": [
        "# X_train_new after scaling\n",
        "X_train"
      ]
    },
    {
      "cell_type": "code",
      "execution_count": null,
      "metadata": {
        "colab": {
          "base_uri": "https://localhost:8080/",
          "height": 458
        },
        "id": "OzIcjVFYYZ91",
        "outputId": "80c7e40a-4638-4127-b2bf-9a944466a85b"
      },
      "outputs": [
        {
          "output_type": "execute_result",
          "data": {
            "text/plain": [
              "237508    0\n",
              "256808    0\n",
              "24515     0\n",
              "304193    0\n",
              "159254    0\n",
              "         ..\n",
              "247527    0\n",
              "279530    0\n",
              "197689    1\n",
              "70731     0\n",
              "30773     0\n",
              "Name: HeartDisease, Length: 255836, dtype: int64"
            ],
            "text/html": [
              "<div>\n",
              "<style scoped>\n",
              "    .dataframe tbody tr th:only-of-type {\n",
              "        vertical-align: middle;\n",
              "    }\n",
              "\n",
              "    .dataframe tbody tr th {\n",
              "        vertical-align: top;\n",
              "    }\n",
              "\n",
              "    .dataframe thead th {\n",
              "        text-align: right;\n",
              "    }\n",
              "</style>\n",
              "<table border=\"1\" class=\"dataframe\">\n",
              "  <thead>\n",
              "    <tr style=\"text-align: right;\">\n",
              "      <th></th>\n",
              "      <th>HeartDisease</th>\n",
              "    </tr>\n",
              "  </thead>\n",
              "  <tbody>\n",
              "    <tr>\n",
              "      <th>237508</th>\n",
              "      <td>0</td>\n",
              "    </tr>\n",
              "    <tr>\n",
              "      <th>256808</th>\n",
              "      <td>0</td>\n",
              "    </tr>\n",
              "    <tr>\n",
              "      <th>24515</th>\n",
              "      <td>0</td>\n",
              "    </tr>\n",
              "    <tr>\n",
              "      <th>304193</th>\n",
              "      <td>0</td>\n",
              "    </tr>\n",
              "    <tr>\n",
              "      <th>159254</th>\n",
              "      <td>0</td>\n",
              "    </tr>\n",
              "    <tr>\n",
              "      <th>...</th>\n",
              "      <td>...</td>\n",
              "    </tr>\n",
              "    <tr>\n",
              "      <th>247527</th>\n",
              "      <td>0</td>\n",
              "    </tr>\n",
              "    <tr>\n",
              "      <th>279530</th>\n",
              "      <td>0</td>\n",
              "    </tr>\n",
              "    <tr>\n",
              "      <th>197689</th>\n",
              "      <td>1</td>\n",
              "    </tr>\n",
              "    <tr>\n",
              "      <th>70731</th>\n",
              "      <td>0</td>\n",
              "    </tr>\n",
              "    <tr>\n",
              "      <th>30773</th>\n",
              "      <td>0</td>\n",
              "    </tr>\n",
              "  </tbody>\n",
              "</table>\n",
              "<p>255836 rows × 1 columns</p>\n",
              "</div><br><label><b>dtype:</b> int64</label>"
            ]
          },
          "metadata": {},
          "execution_count": 11
        }
      ],
      "source": [
        "y_train"
      ]
    },
    {
      "cell_type": "code",
      "execution_count": null,
      "metadata": {
        "colab": {
          "base_uri": "https://localhost:8080/",
          "height": 178
        },
        "id": "7b7599c9",
        "outputId": "98c7060d-8b75-4a9c-e8d0-1b42d0a485b3"
      },
      "outputs": [
        {
          "output_type": "execute_result",
          "data": {
            "text/plain": [
              "HeartDisease\n",
              "0    292422\n",
              "1     27373\n",
              "Name: count, dtype: int64"
            ],
            "text/html": [
              "<div>\n",
              "<style scoped>\n",
              "    .dataframe tbody tr th:only-of-type {\n",
              "        vertical-align: middle;\n",
              "    }\n",
              "\n",
              "    .dataframe tbody tr th {\n",
              "        vertical-align: top;\n",
              "    }\n",
              "\n",
              "    .dataframe thead th {\n",
              "        text-align: right;\n",
              "    }\n",
              "</style>\n",
              "<table border=\"1\" class=\"dataframe\">\n",
              "  <thead>\n",
              "    <tr style=\"text-align: right;\">\n",
              "      <th></th>\n",
              "      <th>count</th>\n",
              "    </tr>\n",
              "    <tr>\n",
              "      <th>HeartDisease</th>\n",
              "      <th></th>\n",
              "    </tr>\n",
              "  </thead>\n",
              "  <tbody>\n",
              "    <tr>\n",
              "      <th>0</th>\n",
              "      <td>292422</td>\n",
              "    </tr>\n",
              "    <tr>\n",
              "      <th>1</th>\n",
              "      <td>27373</td>\n",
              "    </tr>\n",
              "  </tbody>\n",
              "</table>\n",
              "</div><br><label><b>dtype:</b> int64</label>"
            ]
          },
          "metadata": {},
          "execution_count": 12
        }
      ],
      "source": [
        "df_enc['HeartDisease'].value_counts()"
      ]
    },
    {
      "cell_type": "code",
      "execution_count": 1,
      "metadata": {
        "id": "de175ea4"
      },
      "outputs": [],
      "source": [
        "# import SMOTE from imblearn.over_sampling\n",
        "#from imblearn.over_sampling import SMOTE"
      ]
    },
    {
      "cell_type": "code",
      "execution_count": null,
      "metadata": {
        "id": "a21b9e90"
      },
      "outputs": [],
      "source": [
        "# Counter is a collection where elements are stored as\n",
        "# dictionary keys and their counts are stored as dictionary values.\n",
        "from collections import Counter"
      ]
    },
    {
      "cell_type": "code",
      "execution_count": null,
      "metadata": {
        "id": "0c8c86fd"
      },
      "outputs": [],
      "source": [
        "# SMOTE\n",
        "smote = SMOTE(sampling_strategy='minority')\n",
        "X_train_smote , y_train_smote = smote.fit_resample(X_train, y_train)\n",
        "\n",
        "print('Original: {}'.format(Counter(y_train)))\n",
        "print('   SMOTE: {}'.format(Counter(y_train_smote)))"
      ]
    },
    {
      "cell_type": "code",
      "execution_count": null,
      "metadata": {
        "id": "b2f3b300"
      },
      "outputs": [],
      "source": [
        "# kfold cross validation\n",
        "from sklearn.model_selection import KFold\n",
        "\n",
        "# make a 10 fold cross validation\n",
        "cv = KFold(n_splits=10, random_state=None, shuffle=False)"
      ]
    },
    {
      "cell_type": "markdown",
      "metadata": {
        "id": "UCxQqvuWwKZz"
      },
      "source": [
        "# SVM"
      ]
    },
    {
      "cell_type": "code",
      "execution_count": null,
      "metadata": {
        "id": "jjo3isFqv4S4"
      },
      "outputs": [],
      "source": [
        "from sklearn.metrics import classification_report, confusion_matrix\n",
        "from sklearn.model_selection import RandomizedSearchCV\n",
        "from sklearn.svm import SVC\n",
        "\n",
        "# SVM\n",
        "model_svm = SVC()\n",
        "model_svm.fit(X_train_smote, y_train_smote)"
      ]
    },
    {
      "cell_type": "code",
      "execution_count": null,
      "metadata": {
        "id": "TcPJtlVGwZx0"
      },
      "outputs": [],
      "source": [
        "y_pred_svm = model_svm.predict(X_test)"
      ]
    },
    {
      "cell_type": "code",
      "execution_count": null,
      "metadata": {
        "id": "PtNh1lryjWkF"
      },
      "outputs": [],
      "source": [
        "#check\n",
        "from sklearn.metrics import classification_report, confusion_matrix, accuracy_score\n",
        "cm=confusion_matrix(y_test,y_pred_svm )\n",
        "print(confusion_matrix(y_test,y_pred_svm ))\n",
        "print(accuracy_score(y_test,y_pred_svm ))\n",
        "print(classification_report(y_test,y_pred_svm ))"
      ]
    },
    {
      "cell_type": "code",
      "execution_count": null,
      "metadata": {
        "id": "ptiBADlEkFJX"
      },
      "outputs": [],
      "source": [
        "#check\n",
        "#Confusion MAtrix on heatmap\n",
        "%matplotlib inline\n",
        "import matplotlib.pyplot as plt\n",
        "import seaborn as sn\n",
        "plt.figure(figsize=(2,2))\n",
        "sn.heatmap(cm,annot=True,linewidths=0.8,fmt='d',cmap='Blues')\n",
        "plt.xlabel('Predicted',fontsize=16)\n",
        "plt.ylabel('Truth',fontsize=16)"
      ]
    },
    {
      "cell_type": "code",
      "execution_count": null,
      "metadata": {
        "id": "76Jr4V2GkJLo"
      },
      "outputs": [],
      "source": [
        "from sklearn.metrics import auc, roc_curve\n",
        "#check\n",
        "#ROC-AUC\n",
        "#predict Probabilities\n",
        "y_score_svm=model_svm.predict(X_test)   #results are probailities for each sample for each class\n",
        "#retrieve the probabilities only for the class1 (yes, positve class)\n",
        "# yes_probs=y_score_svm[:,1]\n",
        "#Size of the plot\n",
        "plt.figure(figsize=(10,7), dpi=100)\n",
        "#plot \"No-Skill\" on ROC Curve\n",
        "plt.plot([0,1],[0,1],linestyle='--',label='No Skill')\n",
        "# calculate the features of ROC curve\n",
        "fpr_svm , tpr_svm, threshold_svm=roc_curve(y_test,y_score_svm)  # false positive, true posistive, threshold\n",
        "#AUC\n",
        "auc_svm=auc(fpr_svm , tpr_svm)\n",
        "#Plot the ROC Curve\n",
        "plt.plot(fpr_svm, tpr_svm, marker='_', label='SVM (AUC=%0.3f)' % auc_svm, color='Orange')\n",
        "#X-axis label\n",
        "plt.xlabel(\"False Positive Rate\")\n",
        "#Y-axis label\n",
        "plt.ylabel(\"True Positive Rate\")\n",
        "#show the legend\n",
        "plt.legend()\n",
        "#show the plot\n",
        "plt.show()"
      ]
    },
    {
      "cell_type": "markdown",
      "metadata": {
        "id": "eCMSFPLfMZTr"
      },
      "source": [
        "# Neural Network"
      ]
    },
    {
      "cell_type": "code",
      "execution_count": null,
      "metadata": {
        "id": "Y5Uz5oKfbVlC"
      },
      "outputs": [],
      "source": [
        "#import\n",
        "import tensorflow as tf\n",
        "from tensorflow import keras\n",
        "from tensorflow.keras import Sequential\n",
        "from tensorflow.keras.layers import Dense\n",
        "from tensorflow.keras.layers import Dropout\n",
        "from tensorflow.keras.losses import BinaryCrossentropy"
      ]
    },
    {
      "cell_type": "code",
      "execution_count": null,
      "metadata": {
        "id": "0DnQDq2XdQrM"
      },
      "outputs": [],
      "source": [
        "#make the layers\n",
        "nn_model=Sequential([\n",
        "        Dense(units=512, activation='relu'),\n",
        "        Dropout(0.2),\n",
        "        Dense(units=512, activation='relu'),\n",
        "        Dropout(0.2),\n",
        "        Dense(units=512, activation='relu'),\n",
        "        Dropout(0.2),\n",
        "        Dense(units=256, activation='relu'),\n",
        "        Dropout(0.2),\n",
        "        Dense(units=128, activation='relu'),\n",
        "        Dropout(0.2),\n",
        "        Dense(units=1 , activation='sigmoid')\n",
        "])"
      ]
    },
    {
      "cell_type": "code",
      "execution_count": null,
      "metadata": {
        "id": "FxNinZc-jv_c"
      },
      "outputs": [],
      "source": [
        "#set properties of the model\n",
        "nn_model.compile(optimizer='adam', loss='binary_crossentropy',metrics=['accuracy'])"
      ]
    },
    {
      "cell_type": "code",
      "execution_count": null,
      "metadata": {
        "id": "nIG9z1RbfmBE"
      },
      "outputs": [],
      "source": [
        "#fit the model on the train dataset\n",
        "#nn_model.fit(X_train_blnc,y_train_blnc, epochs=100)  #main one\n",
        "nn_model.fit(X_train_smote,y_train_smote, epochs=30)   #just for make it easier we decreased the epoch number"
      ]
    },
    {
      "cell_type": "code",
      "execution_count": null,
      "metadata": {
        "id": "X94mb0CjjBrW"
      },
      "outputs": [],
      "source": [
        "#predict the y value on train data and compare with actual y train and get accuracy on train\n",
        "nn_model.evaluate(X_train_smote,y_train_smote)"
      ]
    },
    {
      "cell_type": "code",
      "execution_count": null,
      "metadata": {
        "id": "YYKa45zT2bhc"
      },
      "outputs": [],
      "source": [
        "#predict the predicted y values and compare with actual ys , and get get accuracy on test\n",
        "nn_model.evaluate(X_test,y_test)"
      ]
    },
    {
      "cell_type": "code",
      "execution_count": null,
      "metadata": {
        "id": "jdf6qJPwhrSU"
      },
      "outputs": [],
      "source": [
        "#predict the  predicted ys\n",
        "y_pred=nn_model.predict(X_test)\n",
        "y_pred"
      ]
    },
    {
      "cell_type": "code",
      "execution_count": null,
      "metadata": {
        "id": "ZR6t5FwEX9yP"
      },
      "outputs": [],
      "source": [
        "#for testing different threshold   Threshold=T\n",
        "y_pred=[int(f> 0.5) for f in y_pred]"
      ]
    },
    {
      "cell_type": "code",
      "execution_count": null,
      "metadata": {
        "id": "5ztmiH3riIN6"
      },
      "outputs": [],
      "source": [
        "#Confusion Matrix\n",
        "cm=confusion_matrix(y_test,y_pred)\n",
        "print(confusion_matrix(y_test,y_pred))\n",
        "print(accuracy_score(y_test,y_pred))\n",
        "print(classification_report(y_test,y_pred))"
      ]
    },
    {
      "cell_type": "code",
      "execution_count": null,
      "metadata": {
        "id": "dWsrtCZeiMMS"
      },
      "outputs": [],
      "source": [
        "#Confusion MAtrix on heatmap\n",
        "%matplotlib inline\n",
        "import matplotlib.pyplot as plt\n",
        "import seaborn as sn\n",
        "plt.figure(figsize=(2,2))\n",
        "sn.heatmap(cm,annot=True,linewidths=0.8,fmt='d',cmap='Blues')\n",
        "plt.xlabel('Predicted',fontsize=16)\n",
        "plt.ylabel('Truth',fontsize=16)"
      ]
    },
    {
      "cell_type": "code",
      "execution_count": null,
      "metadata": {
        "id": "t5lDcOnzyFpv"
      },
      "outputs": [],
      "source": [
        "#ROC-AUC\n",
        "#predict Probabilities\n",
        "y_score_nn=nn_model.predict(X_test)   #results are probailities for each sample for each class\n",
        "\n",
        "#Size of the plot\n",
        "plt.figure(figsize=(2,2), dpi=100)\n",
        "#plot \"No-Skill\" on ROC Curve\n",
        "plt.plot([0,1],[0,1],linestyle='--',label='No Skill')\n",
        "# calculate the features of ROC curve\n",
        "fpr_nn , tpr_nn, threshold_nn=roc_curve(y_test,y_score_nn)  # false positive, true posistive, threshold\n",
        "#AUC\n",
        "auc_nn=auc(fpr_nn , tpr_nn)\n",
        "#Plot the ROC Curve\n",
        "plt.plot(fpr_nn, tpr_nn, marker='_', label='Neural Network (auc= %0.3f)' % auc_nn, color='Orange')\n",
        "#X-axis label\n",
        "plt.xlabel(\"False Positive Rate\")\n",
        "#Y-axis label\n",
        "plt.ylabel(\"True Positive Rate\")\n",
        "#show the legend\n",
        "plt.legend()\n",
        "#show the plot\n",
        "plt.show()"
      ]
    },
    {
      "cell_type": "markdown",
      "metadata": {
        "id": "Ph-j98wTpUx_"
      },
      "source": [
        "# XGBoost"
      ]
    },
    {
      "cell_type": "code",
      "execution_count": null,
      "metadata": {
        "id": "r5uE8TVnpZWw"
      },
      "outputs": [],
      "source": [
        "from xgboost import XGBClassifier\n",
        "from sklearn.model_selection import GridSearchCV\n",
        "xg_model=XGBClassifier()\n",
        "param_grid={'gamma':[0.12]}\n",
        "xg_cv=GridSearchCV(xg_model,param_grid,cv=10)\n",
        "xg_cv.fit(X_train_smote,y_train_smote)"
      ]
    },
    {
      "cell_type": "code",
      "execution_count": null,
      "metadata": {
        "id": "_LHYMZPvqhnn"
      },
      "outputs": [],
      "source": [
        "y_pred=xg_cv.predict(X_test)"
      ]
    },
    {
      "cell_type": "code",
      "execution_count": null,
      "metadata": {
        "id": "kiPRx2kKq0_2"
      },
      "outputs": [],
      "source": [
        "#Confusion Matrix\n",
        "cm=confusion_matrix(y_test,y_pred)\n",
        "print(confusion_matrix(y_test,y_pred))\n",
        "print(accuracy_score(y_test,y_pred))\n",
        "print(classification_report(y_test,y_pred))"
      ]
    },
    {
      "cell_type": "code",
      "execution_count": null,
      "metadata": {
        "id": "tS1sIz4_q7E1"
      },
      "outputs": [],
      "source": [
        "#Confusion MAtrix on heatmap\n",
        "%matplotlib inline\n",
        "import matplotlib.pyplot as plt\n",
        "import seaborn as sn\n",
        "plt.figure(figsize=(2,2))\n",
        "sn.heatmap(cm,annot=True,linewidths=0.8,fmt='d',cmap='Blues')\n",
        "plt.xlabel('Predicted',fontsize=16)\n",
        "plt.ylabel('Truth',fontsize=16)"
      ]
    },
    {
      "cell_type": "code",
      "execution_count": null,
      "metadata": {
        "id": "kbltmkm5sI8h"
      },
      "outputs": [],
      "source": [
        "#ROC-AUC\n",
        "#predict Probabilities\n",
        "y_score_xg=xg_cv.predict_proba(X_test)   #results are probailities for each sample for each class\n",
        "#retrieve the probabilities only for the class1 (yes, positve class)\n",
        "yes_probs=y_score_xg[:,1]\n",
        "#Size of the plot\n",
        "plt.figure(figsize=(2,2), dpi=100)\n",
        "#plot \"No-Skill\" on ROC Curve\n",
        "plt.plot([0,1],[0,1],linestyle='--',label='No Skill')\n",
        "# calculate the features of ROC curve\n",
        "fpr_xg , tpr_xg, threshold_xg=roc_curve(y_test,yes_probs)  # false positive, true posistive, threshold\n",
        "#AUC\n",
        "auc_xg=auc(fpr_xg , tpr_xg)\n",
        "#Plot the ROC Curve\n",
        "plt.plot(fpr_xg, tpr_xg, marker='_', label='XGBoost (%0.3f)' % auc_xg, color='Orange')\n",
        "#X-axis label\n",
        "plt.xlabel(\"False Positive Rate\")\n",
        "#Y-axis label\n",
        "plt.ylabel(\"True Positive Rate\")\n",
        "#show the legend\n",
        "plt.legend()\n",
        "#show the plot\n",
        "plt.show()"
      ]
    },
    {
      "cell_type": "markdown",
      "metadata": {
        "id": "Btjxf5dDPl6_"
      },
      "source": [
        "## Logestic Regression"
      ]
    },
    {
      "cell_type": "code",
      "execution_count": null,
      "metadata": {
        "id": "_m-wdumKRHfS"
      },
      "outputs": [],
      "source": [
        "from sklearn.linear_model import LogisticRegression # import logistic regression\n",
        "from sklearn.model_selection import GridSearchCV  #import gridsearch"
      ]
    },
    {
      "cell_type": "code",
      "execution_count": null,
      "metadata": {
        "id": "FbR2zM-eRSL_"
      },
      "outputs": [],
      "source": [
        "#make the model\n",
        "logreg=LogisticRegression()"
      ]
    },
    {
      "cell_type": "code",
      "execution_count": null,
      "metadata": {
        "id": "yhDOv0FKYp5L"
      },
      "outputs": [],
      "source": [
        "#hyperparameters\n",
        "param_dict={\"penalty\":[\"l1\",\"l2\"],\"C\":np.logspace(-3,3,7), \"max_iter\":[1000]}\n",
        "#param_dict={\"penalty\":[\"l1\",\"l2\"],\"C\":[0.1,1,10,20,100,1000]}  # we did not use this\n",
        "#param_dict={\"penalty\":[\"l1\",\"l2\"],\"C\":[10]}# we did not use this"
      ]
    },
    {
      "cell_type": "code",
      "execution_count": null,
      "metadata": {
        "id": "VVJzEHMca249"
      },
      "outputs": [],
      "source": [
        "#Grid Serch\n",
        "logreg_cv=GridSearchCV(logreg,param_dict,cv=10)"
      ]
    },
    {
      "cell_type": "code",
      "execution_count": null,
      "metadata": {
        "id": "qcx2xHBuRxa0"
      },
      "outputs": [],
      "source": [
        "#fit the model\n",
        "logreg_cv.fit(X_train_smote,y_train_smote)"
      ]
    },
    {
      "cell_type": "code",
      "execution_count": null,
      "metadata": {
        "id": "9N4mtteUbaa7"
      },
      "outputs": [],
      "source": [
        "#the best hyperparametrs\n",
        "logreg_cv.best_params_"
      ]
    },
    {
      "cell_type": "code",
      "execution_count": null,
      "metadata": {
        "id": "j20THalwRxfe"
      },
      "outputs": [],
      "source": [
        "#prediction\n",
        "y_pred=logreg_cv.predict(X_test)"
      ]
    },
    {
      "cell_type": "code",
      "execution_count": null,
      "metadata": {
        "id": "vSk9BVHcy8NC"
      },
      "outputs": [],
      "source": [
        "#plot for comparing probability belongs to class0, class1)\n",
        "import seaborn as sns\n",
        "prob=logreg_cv.predict_proba(X_test)\n",
        "e0=[]  #empty list for class0\n",
        "e1=[]  #empty list for class1\n",
        "for i in prob:\n",
        "  e0.append(i[0])\n",
        "  e1.append(i[1])\n",
        "sns.distplot(e0, hist=False, color='blue' )\n",
        "sns.distplot(e1, hist=False, color='Orange')"
      ]
    },
    {
      "cell_type": "code",
      "execution_count": null,
      "metadata": {
        "id": "v5M1UqbDXfRs"
      },
      "outputs": [],
      "source": [
        "#check the lenght\n",
        "print(len(y_pred))\n",
        "print(len(y_test))"
      ]
    },
    {
      "cell_type": "code",
      "execution_count": null,
      "metadata": {
        "id": "Pl5Ujno5XG3T"
      },
      "outputs": [],
      "source": [
        "#Confusion Matrix\n",
        "cm=confusion_matrix(y_test,y_pred)\n",
        "print(confusion_matrix(y_test,y_pred))\n",
        "print(accuracy_score(y_test,y_pred))\n",
        "print(classification_report(y_test,y_pred))"
      ]
    },
    {
      "cell_type": "code",
      "execution_count": null,
      "metadata": {
        "id": "dXmYk8sTE5H7"
      },
      "outputs": [],
      "source": [
        "#Confusion MAtrix on heatmap\n",
        "%matplotlib inline\n",
        "import matplotlib.pyplot as plt\n",
        "import seaborn as sn\n",
        "plt.figure(figsize=(2,2))\n",
        "sn.heatmap(cm,annot=True,linewidths=0.8,fmt='d',cmap='Blues')\n",
        "plt.xlabel('Predicted',fontsize=16)\n",
        "plt.ylabel('Truth',fontsize=16)"
      ]
    },
    {
      "cell_type": "code",
      "execution_count": null,
      "metadata": {
        "id": "-wj35IECOpqF"
      },
      "outputs": [],
      "source": [
        "#ROC-AUC\n",
        "#predict Probabilities\n",
        "y_score_log=logreg_cv.predict_proba(X_test)   #results are probailities for each sample for each class\n",
        "#retrieve the probabilities only for the class1 (yes, positve class)\n",
        "yes_probs=y_score_log[:,1]\n",
        "#Size of the plot\n",
        "plt.figure(figsize=(2,2), dpi=100)\n",
        "#plot \"No-Skill\" on ROC Curve\n",
        "plt.plot([0,1],[0,1],linestyle='--',label='No Skill')\n",
        "# calculate the features of ROC curve\n",
        "fpr_log , tpr_log, threshold_log=roc_curve(y_test,yes_probs)  # false positive, true posistive, threshold\n",
        "#AUC\n",
        "auc_log=auc(fpr_log , tpr_log)\n",
        "#Plot the ROC Curve\n",
        "plt.plot(fpr_log , tpr_log, marker='_', label='Logistic Regression (auc=%0.3f)' %auc_log, color='Orange')\n",
        "#X-axis label\n",
        "plt.xlabel(\"False Positive Rate\")\n",
        "#Y-axis label\n",
        "plt.ylabel(\"True Positive Rate\")\n",
        "#show the legend\n",
        "plt.legend()\n",
        "#show the plot\n",
        "plt.show()"
      ]
    },
    {
      "cell_type": "markdown",
      "metadata": {
        "id": "gEu_xFR7pZaA"
      },
      "source": [
        "## Gradient Boost"
      ]
    },
    {
      "cell_type": "code",
      "execution_count": null,
      "metadata": {
        "id": "eFITQbpRpLQD"
      },
      "outputs": [],
      "source": [
        "#make the model and hyperparameter tuning\n",
        "from sklearn.ensemble import GradientBoostingClassifier\n",
        "from sklearn.model_selection import RandomizedSearchCV\n",
        "param_grid={'learning_rate':[0.1,0.01], 'n_estimators':[100],'max_depth':[3]}  #n_estimators is the number of trees ,\n",
        "                                                                                    #max_depth= the depth of each tree\n",
        "gb_model=GradientBoostingClassifier()"
      ]
    },
    {
      "cell_type": "code",
      "execution_count": null,
      "metadata": {
        "id": "RNhm6jXrc46f"
      },
      "outputs": [],
      "source": [
        "#fit model on the train dataset\n",
        "gb_cv1=RandomizedSearchCV(gb_model,param_grid,cv=10)"
      ]
    },
    {
      "cell_type": "code",
      "execution_count": null,
      "metadata": {
        "id": "zxHu3cyztzeO"
      },
      "outputs": [],
      "source": []
    },
    {
      "cell_type": "code",
      "execution_count": null,
      "metadata": {
        "id": "naK0NYwItmRB"
      },
      "outputs": [],
      "source": [
        "#fit the model on train dataset\n",
        "gb_cv1.fit(X_train_smote, y_train_smote)"
      ]
    },
    {
      "cell_type": "code",
      "execution_count": null,
      "metadata": {
        "id": "sYpJYUW0t4KN"
      },
      "outputs": [],
      "source": [
        "#the best hyperparametrs\n",
        "gb_cv1.best_params_"
      ]
    },
    {
      "cell_type": "code",
      "execution_count": null,
      "metadata": {
        "id": "minvBB340ZNc"
      },
      "outputs": [],
      "source": [
        "#test the model on the test dataset\n",
        "y_pred=gb_cv1.predict(X_test)"
      ]
    },
    {
      "cell_type": "code",
      "execution_count": null,
      "metadata": {
        "id": "J-YfLvyD0iQw"
      },
      "outputs": [],
      "source": [
        "#Evaluation\n",
        "cm=confusion_matrix(y_test,y_pred)\n",
        "print(confusion_matrix(y_test,y_pred))\n",
        "print(accuracy_score(y_test,y_pred))\n",
        "print(classification_report(y_test,y_pred))"
      ]
    },
    {
      "cell_type": "code",
      "execution_count": null,
      "metadata": {
        "id": "qvhwt_wR0rC7"
      },
      "outputs": [],
      "source": [
        "#Confusion MAtrix on heatmap\n",
        "%matplotlib inline\n",
        "import matplotlib.pyplot as plt\n",
        "import seaborn as sn\n",
        "plt.figure(figsize=(2,2))\n",
        "sn.heatmap(cm,annot=True,linewidths=0.8,fmt='d',cmap='Blues')\n",
        "plt.xlabel('Predicted',fontsize=16)\n",
        "plt.ylabel('Truth',fontsize=16)"
      ]
    },
    {
      "cell_type": "code",
      "execution_count": null,
      "metadata": {
        "id": "CX4GG97p0u2G"
      },
      "outputs": [],
      "source": [
        "#ROC-AUC\n",
        "#predict Probabilities\n",
        "y_score_gb=gb_cv1.predict_proba(X_test)   #results are probailities for each sample for each class\n",
        "#retrieve the probabilities only for the class1 (yes, positve class)\n",
        "yes_probs=y_score_gb[:,1]\n",
        "#Size of the plot\n",
        "plt.figure(figsize=(2,2), dpi=100)\n",
        "#plot \"No-Skill\" on ROC Curve\n",
        "plt.plot([0,1],[0,1],linestyle='--',label='No Skill')\n",
        "# calculate the features of ROC curve\n",
        "fpr_gb , tpr_gb, threshold_gb=roc_curve(y_test,yes_probs)  # false positive, true posistive, threshold\n",
        "#AUC\n",
        "auc_gb=auc(fpr_gb , tpr_gb)\n",
        "#Plot the ROC Curve\n",
        "plt.plot(fpr_gb, tpr_gb, marker='_', label='GradientBoost (auc=%0.3f)' % auc_gb, color='Orange')\n",
        "#X-axis label\n",
        "plt.xlabel(\"False Positive Rate\")\n",
        "#Y-axis label\n",
        "plt.ylabel(\"True Positive Rate\")\n",
        "#show the legend\n",
        "plt.legend()\n",
        "#show the plot\n",
        "plt.show()"
      ]
    },
    {
      "cell_type": "markdown",
      "metadata": {
        "id": "4a-SRsFRpWUc"
      },
      "source": []
    },
    {
      "cell_type": "markdown",
      "metadata": {
        "id": "UKfXIs4ccop4"
      },
      "source": [
        "# Comparision"
      ]
    },
    {
      "cell_type": "code",
      "execution_count": null,
      "metadata": {
        "id": "7L8cWrOWcqq_"
      },
      "outputs": [],
      "source": [
        "#figure size\n",
        "plt.figure(figsize=(10,7),dpi=120)\n",
        "#Plot the ROC Curve\n",
        "plt.plot(fpr_svm, tpr_svm, marker='_', label='SVM (AUC=%0.3f)' % auc_svm, color='Red')\n",
        "plt.plot(fpr_nn, tpr_nn, marker='_', label='NN (AUC= %0.3f)' % auc_nn, color='Blue')\n",
        "plt.plot(fpr_xg, tpr_xg, marker='_', label='XG Boost (AUC= %0.3f)' % auc_xg, color='Gray')\n",
        "plt.plot(fpr_log, tpr_log, marker='_', label='Log Reg (AUC=%0.3f)' % auc_log, color='Green')\n",
        "plt.plot(fpr_gb, tpr_gb, marker='_', label='KNN (AUC=%0.3f)' % auc_gb, color='Black')\n",
        "\n",
        "#X-axis label\n",
        "plt.xlabel(\"False Positive Rate\", fontname=\"Times New Roman\", size=12, fontweight=\"bold\")\n",
        "#Y-axis label\n",
        "plt.ylabel(\"True Positive Rate\", fontname=\"Times New Roman\", size=12, fontweight=\"bold\")\n",
        "#show the legend\n",
        "plt.legend(prop={'size':8,\"family\":\"Times New Roman\" })\n",
        "#show the plot\n",
        "plt.show()\n",
        "\n",
        "#save the figure\n",
        "#beingsaved.savefig('myimage.eps', format='eps', dpi=1200)"
      ]
    }
  ],
  "metadata": {
    "accelerator": "TPU",
    "colab": {
      "provenance": [],
      "gpuType": "V28"
    },
    "kernelspec": {
      "display_name": "Python 3",
      "name": "python3"
    },
    "language_info": {
      "name": "python"
    }
  },
  "nbformat": 4,
  "nbformat_minor": 0
}
